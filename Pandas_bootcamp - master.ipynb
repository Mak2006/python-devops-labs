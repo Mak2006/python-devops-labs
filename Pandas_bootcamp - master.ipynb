{
 "cells": [
  {
   "cell_type": "markdown",
   "metadata": {},
   "source": [
    "# Pandas \n",
    "\n",
    "\n",
    "## Install and importing \n",
    "\n",
    "`pip install pandas` # for installation, assuming that this is already done\n",
    "\n",
    "`import pandas as pd; # in the code`\n",
    "\n",
    "further we get a data set to munch upon. There are two flavors of it \n",
    "1d data set =  and 2d data set. \n",
    "\n",
    "\n",
    "## Panda playgrounds where you can learn\n",
    "1. [Perfect you Pandas skills on Kaggle](https://www.kaggle.com/learn/pandas)\n",
    "1. [10 minutes to pandas](https://pandas.pydata.org/pandas-docs/version/0.19/10min.html)"
   ]
  },
  {
   "cell_type": "code",
   "execution_count": 2,
   "metadata": {},
   "outputs": [],
   "source": [
    "import pandas as pd"
   ]
  },
  {
   "cell_type": "markdown",
   "metadata": {},
   "source": [
    "## Pandas\n",
    "1. Essentially 3 data structures, series, dataframe, panels\n",
    "\t1. Series is 1D, like a column, \n",
    "\t3. DataFrame is like 2D, worksheet\n",
    "\t4. Panel is 3d, like a excel file, multiple worksheets."
   ]
  },
  {
   "cell_type": "markdown",
   "metadata": {},
   "source": [
    "## Help when you are lost"
   ]
  },
  {
   "cell_type": "code",
   "execution_count": null,
   "metadata": {},
   "outputs": [],
   "source": [
    "df1.         #press tab"
   ]
  },
  {
   "cell_type": "code",
   "execution_count": null,
   "metadata": {},
   "outputs": [],
   "source": [
    "df1.add? #get help"
   ]
  },
  {
   "cell_type": "markdown",
   "metadata": {},
   "source": [
    "## Series\n",
    "\n",
    "1. This is a list, it can either Stirings or numebrs  or both. It has index and a label. Index is integer sequence and starts with 0, while label is another set of strings making this a key value pair. \n",
    "3. Define - \n",
    "\t1. `animals = [\"tiger\", \"bear\", \"moose\"]` \n",
    "\t2. make it mixed `animals = [\"tiger\", \"bear\", 1, None]` \n",
    "\t3. Note for both cases when it is string and it is mixed, the underlying type is `dtype: object`\n",
    "\t4. Printing `pd.Series(animals)`or `s.head()`\n",
    "\t5.  Creating using labels `animals = [\"tiger\", \"bear\", \"moose\"]` \n",
    "\t6.  Defining a series with existing list or tuple or  dictionary. \n",
    "4. The definition of Series API is `pd.Series(data=None, index=None, dtype=None, name=None, copy=False, fastpath=False)[source]`"
   ]
  },
  {
   "cell_type": "code",
   "execution_count": null,
   "metadata": {},
   "outputs": [],
   "source": [
    "# Defining using dic\n",
    "lidata = ['a', 'b', 'c']\n",
    "tudata = ('b', 'c', 'd')\n",
    "didata = {'Kite': 'paper',\n",
    "          'Chair': 'wood',\n",
    "          'Notebook': 'paper',\n",
    "          'Mirror': 'glass'}\n",
    "\n",
    "li = pd.Series(lidata) # all works\n",
    "print(li) #print it. \n",
    "tu = pd.Series(tudata)\n",
    "print(tu)\n",
    "\n",
    "#Invoking the api\n",
    "ingreds = pd.Series({'Flour': '4 cups', 'Milk':'1 cup', 'Eggs': '2 large', 'Spam': '1 can'}, name='Dinner')\n",
    "ingreds"
   ]
  },
  {
   "cell_type": "code",
   "execution_count": 18,
   "metadata": {},
   "outputs": [
    {
     "data": {
      "text/plain": [
       "malignant    0\n",
       "benign       1\n",
       "dtype: int64"
      ]
     },
     "execution_count": 18,
     "metadata": {},
     "output_type": "execute_result"
    }
   ],
   "source": [
    "# 4.  Defining index in series. \n",
    "# \t1. Index is a list so would be defined by `[]` and can contain only strings. \n",
    "# \t2. If List or tuple is being used index would have to contain exact number of arguments. \n",
    "# \t3. If dict is being used index is already defined as the keys of ht edict and those are used. \n",
    "#        This is like a query and not a creation.\n",
    "# Series creation with index\n",
    "s = pd.Series([0, 1], index = ['malignant', 'benign'])\n",
    "s"
   ]
  },
  {
   "cell_type": "code",
   "execution_count": 7,
   "metadata": {},
   "outputs": [
    {
     "data": {
      "text/plain": [
       "0    1\n",
       "1    2\n",
       "2    3\n",
       "3    4\n",
       "4    5\n",
       "5    7\n",
       "dtype: int64"
      ]
     },
     "execution_count": 7,
     "metadata": {},
     "output_type": "execute_result"
    }
   ],
   "source": [
    "#Adding a value\n",
    "import pandas as pd\n",
    "input = pd.Series([1,2,3,4,5])\n",
    "input[len(input)] = 7\n",
    "input"
   ]
  },
  {
   "cell_type": "code",
   "execution_count": 8,
   "metadata": {},
   "outputs": [
    {
     "data": {
      "text/plain": [
       "[1, 2, 3]"
      ]
     },
     "execution_count": 8,
     "metadata": {},
     "output_type": "execute_result"
    }
   ],
   "source": [
    "#if input is defined as []\n",
    "input2 = [1, 2]\n",
    "#input2[len(input2)] = 3 # does not work\n",
    "input2.append(3) #works\n",
    "input2"
   ]
  },
  {
   "cell_type": "code",
   "execution_count": 12,
   "metadata": {},
   "outputs": [
    {
     "data": {
      "text/plain": [
       "[1, 2, 3]"
      ]
     },
     "execution_count": 12,
     "metadata": {},
     "output_type": "execute_result"
    }
   ],
   "source": [
    "# Define using copy\n",
    "d1 = input2.copy() # or us deepcopy()\n",
    "# Can be used on df as well\n",
    "d1"
   ]
  },
  {
   "cell_type": "code",
   "execution_count": 17,
   "metadata": {},
   "outputs": [
    {
     "data": {
      "text/plain": [
       "0       300\n",
       "1       491\n",
       "2       614\n",
       "3       688\n",
       "4       251\n",
       "       ... \n",
       "9995    493\n",
       "9996    538\n",
       "9997    237\n",
       "9998    382\n",
       "9999    209\n",
       "Length: 10000, dtype: int32"
      ]
     },
     "execution_count": 17,
     "metadata": {},
     "output_type": "execute_result"
    }
   ],
   "source": [
    "#More series creation \n",
    "#creating from random.  \n",
    "import numpy as np\n",
    "s = pd.Series(np.random.randint(0, 1000, 10000))\n",
    "s\n"
   ]
  },
  {
   "cell_type": "markdown",
   "metadata": {},
   "source": [
    "5.  Query - either by index or index label.  There are two attributes to do this `iloc` and `loc` MNote these are not methods. They are attributes so usages are `s.iloc[3] or s.loc['Notebook']`\n",
    "\t 1. `s.iloc['2']` is error as we require int here as these are index. \n",
    "\t 2. `s.['3']` can work on dictionary having key `'3'` else it will throw error.\n",
    "\t 3. There is confusion if we are trying to index or we are referrind to keys, hence it isbetter to use loc and iloc. \n",
    "\t \n",
    "6. Working with the series\n",
    "\t1.  Do not iterate, use Vector methods\n",
    "\t2.  use numpy for the methods and pass them the series `import numpy as np`  `total = np.sum(s)` gives us summ of all numbers of s. Similarly `mean, min, max, std`\n",
    "\t3. `s+=2` increases all elements by 2, similary `-=, *= /=`\n",
    "\t4. `len(s)` gives the length of s"
   ]
  },
  {
   "cell_type": "markdown",
   "metadata": {},
   "source": [
    "## Data frame\n",
    " \n",
    "### Creating data frames\n",
    "\n",
    " "
   ]
  },
  {
   "cell_type": "code",
   "execution_count": 19,
   "metadata": {},
   "outputs": [
    {
     "data": {
      "text/html": [
       "<div>\n",
       "<style scoped>\n",
       "    .dataframe tbody tr th:only-of-type {\n",
       "        vertical-align: middle;\n",
       "    }\n",
       "\n",
       "    .dataframe tbody tr th {\n",
       "        vertical-align: top;\n",
       "    }\n",
       "\n",
       "    .dataframe thead th {\n",
       "        text-align: right;\n",
       "    }\n",
       "</style>\n",
       "<table border=\"1\" class=\"dataframe\">\n",
       "  <thead>\n",
       "    <tr style=\"text-align: right;\">\n",
       "      <th></th>\n",
       "      <th>Apples</th>\n",
       "      <th>Bananas</th>\n",
       "    </tr>\n",
       "  </thead>\n",
       "  <tbody>\n",
       "    <tr>\n",
       "      <th>0</th>\n",
       "      <td>30</td>\n",
       "      <td>21</td>\n",
       "    </tr>\n",
       "  </tbody>\n",
       "</table>\n",
       "</div>"
      ],
      "text/plain": [
       "   Apples  Bananas\n",
       "0      30       21"
      ]
     },
     "execution_count": 19,
     "metadata": {},
     "output_type": "execute_result"
    }
   ],
   "source": [
    "#Creating directly using a DataFrame\n",
    "fruits = pd.DataFrame({'Apples': [30], 'Bananas': [21]})\n",
    "fruits"
   ]
  },
  {
   "cell_type": "code",
   "execution_count": 20,
   "metadata": {},
   "outputs": [
    {
     "data": {
      "text/html": [
       "<div>\n",
       "<style scoped>\n",
       "    .dataframe tbody tr th:only-of-type {\n",
       "        vertical-align: middle;\n",
       "    }\n",
       "\n",
       "    .dataframe tbody tr th {\n",
       "        vertical-align: top;\n",
       "    }\n",
       "\n",
       "    .dataframe thead th {\n",
       "        text-align: right;\n",
       "    }\n",
       "</style>\n",
       "<table border=\"1\" class=\"dataframe\">\n",
       "  <thead>\n",
       "    <tr style=\"text-align: right;\">\n",
       "      <th></th>\n",
       "      <th>Rob</th>\n",
       "      <th>Rick</th>\n",
       "    </tr>\n",
       "  </thead>\n",
       "  <tbody>\n",
       "    <tr>\n",
       "      <th>Row name1</th>\n",
       "      <td>Very good.</td>\n",
       "      <td>Awesome.</td>\n",
       "    </tr>\n",
       "    <tr>\n",
       "      <th>Row name2</th>\n",
       "      <td>Not so good.</td>\n",
       "      <td>Boring.</td>\n",
       "    </tr>\n",
       "  </tbody>\n",
       "</table>\n",
       "</div>"
      ],
      "text/plain": [
       "                    Rob      Rick\n",
       "Row name1    Very good.  Awesome.\n",
       "Row name2  Not so good.   Boring."
      ]
     },
     "execution_count": 20,
     "metadata": {},
     "output_type": "execute_result"
    }
   ],
   "source": [
    "# More bigger dictionaries\n",
    "df1 = pd.DataFrame({'Rob': ['Very good.', 'Not so good.'], 'Rick': ['Awesome.', 'Boring.']}, index=['Row name1', 'Row name2'])\n",
    "\n",
    "# Note this index=['Product A', 'Product B'] is optional. \n",
    "## Nog\n",
    "df1"
   ]
  },
  {
   "cell_type": "code",
   "execution_count": 57,
   "metadata": {},
   "outputs": [
    {
     "data": {
      "text/html": [
       "<div>\n",
       "<style scoped>\n",
       "    .dataframe tbody tr th:only-of-type {\n",
       "        vertical-align: middle;\n",
       "    }\n",
       "\n",
       "    .dataframe tbody tr th {\n",
       "        vertical-align: top;\n",
       "    }\n",
       "\n",
       "    .dataframe thead th {\n",
       "        text-align: right;\n",
       "    }\n",
       "</style>\n",
       "<table border=\"1\" class=\"dataframe\">\n",
       "  <thead>\n",
       "    <tr style=\"text-align: right;\">\n",
       "      <th></th>\n",
       "      <th>max_speed</th>\n",
       "      <th>shield</th>\n",
       "    </tr>\n",
       "  </thead>\n",
       "  <tbody>\n",
       "    <tr>\n",
       "      <th>cobra</th>\n",
       "      <td>1</td>\n",
       "      <td>2</td>\n",
       "    </tr>\n",
       "    <tr>\n",
       "      <th>viper</th>\n",
       "      <td>4</td>\n",
       "      <td>5</td>\n",
       "    </tr>\n",
       "    <tr>\n",
       "      <th>sidewinder</th>\n",
       "      <td>7</td>\n",
       "      <td>8</td>\n",
       "    </tr>\n",
       "  </tbody>\n",
       "</table>\n",
       "</div>"
      ],
      "text/plain": [
       "            max_speed  shield\n",
       "cobra               1       2\n",
       "viper               4       5\n",
       "sidewinder          7       8"
      ]
     },
     "execution_count": 57,
     "metadata": {},
     "output_type": "execute_result"
    }
   ],
   "source": [
    "#Note the dataFrame is created row in transposed way, that is we write all the columns first.\n",
    "\n",
    "#The syntax is **pd.DataFrame(dict, indexList}** - example \n",
    "\n",
    "df = pd.DataFrame([[1, 2], [4, 5], [7, 8]],\n",
    "     index=['cobra', 'viper', 'sidewinder'],\n",
    "     columns=['max_speed', 'shield'])\n",
    "df"
   ]
  },
  {
   "cell_type": "code",
   "execution_count": 58,
   "metadata": {},
   "outputs": [
    {
     "data": {
      "text/html": [
       "<div>\n",
       "<style scoped>\n",
       "    .dataframe tbody tr th:only-of-type {\n",
       "        vertical-align: middle;\n",
       "    }\n",
       "\n",
       "    .dataframe tbody tr th {\n",
       "        vertical-align: top;\n",
       "    }\n",
       "\n",
       "    .dataframe thead th {\n",
       "        text-align: right;\n",
       "    }\n",
       "</style>\n",
       "<table border=\"1\" class=\"dataframe\">\n",
       "  <thead>\n",
       "    <tr style=\"text-align: right;\">\n",
       "      <th></th>\n",
       "      <th>max_speed</th>\n",
       "      <th>shield</th>\n",
       "    </tr>\n",
       "  </thead>\n",
       "  <tbody>\n",
       "    <tr>\n",
       "      <th>Bad</th>\n",
       "      <td>4</td>\n",
       "      <td>5</td>\n",
       "    </tr>\n",
       "    <tr>\n",
       "      <th>Ugly</th>\n",
       "      <td>7</td>\n",
       "      <td>8</td>\n",
       "    </tr>\n",
       "  </tbody>\n",
       "</table>\n",
       "</div>"
      ],
      "text/plain": [
       "      max_speed  shield\n",
       "Bad           4       5\n",
       "Ugly          7       8"
      ]
     },
     "execution_count": 58,
     "metadata": {},
     "output_type": "execute_result"
    }
   ],
   "source": [
    "#Suppose we set the index incorrectly  and require to correct it\n",
    "df1 = df # we use a copy of df\n",
    "df1 = df1.set_index([pd.Index(['Good', 'Bad', 'Ugly'])]) # this denotes some of the columns as index\n",
    "\n",
    "# how to remove an index\n",
    "df1 = df1.drop(['Good']) \n",
    "\n",
    "# add the old indexs as columns\n",
    "df1.reset_index\n",
    "df1"
   ]
  },
  {
   "cell_type": "code",
   "execution_count": 59,
   "metadata": {},
   "outputs": [
    {
     "data": {
      "text/html": [
       "<div>\n",
       "<style scoped>\n",
       "    .dataframe tbody tr th:only-of-type {\n",
       "        vertical-align: middle;\n",
       "    }\n",
       "\n",
       "    .dataframe tbody tr th {\n",
       "        vertical-align: top;\n",
       "    }\n",
       "\n",
       "    .dataframe thead th {\n",
       "        text-align: right;\n",
       "    }\n",
       "</style>\n",
       "<table border=\"1\" class=\"dataframe\">\n",
       "  <thead>\n",
       "    <tr style=\"text-align: right;\">\n",
       "      <th></th>\n",
       "      <th>max_speed</th>\n",
       "      <th>shield</th>\n",
       "      <th>index1</th>\n",
       "    </tr>\n",
       "  </thead>\n",
       "  <tbody>\n",
       "    <tr>\n",
       "      <th>cobra</th>\n",
       "      <td>1</td>\n",
       "      <td>2</td>\n",
       "      <td>cobra</td>\n",
       "    </tr>\n",
       "    <tr>\n",
       "      <th>viper</th>\n",
       "      <td>4</td>\n",
       "      <td>5</td>\n",
       "      <td>viper</td>\n",
       "    </tr>\n",
       "    <tr>\n",
       "      <th>sidewinder</th>\n",
       "      <td>7</td>\n",
       "      <td>8</td>\n",
       "      <td>sidewinder</td>\n",
       "    </tr>\n",
       "  </tbody>\n",
       "</table>\n",
       "</div>"
      ],
      "text/plain": [
       "            max_speed  shield      index1\n",
       "cobra               1       2       cobra\n",
       "viper               4       5       viper\n",
       "sidewinder          7       8  sidewinder"
      ]
     },
     "execution_count": 59,
     "metadata": {},
     "output_type": "execute_result"
    }
   ],
   "source": [
    "#add some existing index as columns\n",
    "df1 = df\n",
    "df1['index1'] = df1.index   # this does not give intended results sometimes\n",
    "df1"
   ]
  },
  {
   "cell_type": "code",
   "execution_count": 64,
   "metadata": {},
   "outputs": [
    {
     "data": {
      "text/html": [
       "<div>\n",
       "<style scoped>\n",
       "    .dataframe tbody tr th:only-of-type {\n",
       "        vertical-align: middle;\n",
       "    }\n",
       "\n",
       "    .dataframe tbody tr th {\n",
       "        vertical-align: top;\n",
       "    }\n",
       "\n",
       "    .dataframe thead th {\n",
       "        text-align: right;\n",
       "    }\n",
       "</style>\n",
       "<table border=\"1\" class=\"dataframe\">\n",
       "  <thead>\n",
       "    <tr style=\"text-align: right;\">\n",
       "      <th></th>\n",
       "      <th>level_0</th>\n",
       "      <th>index</th>\n",
       "      <th>max_speed</th>\n",
       "      <th>shield</th>\n",
       "      <th>index1</th>\n",
       "    </tr>\n",
       "  </thead>\n",
       "  <tbody>\n",
       "    <tr>\n",
       "      <th>0</th>\n",
       "      <td>0</td>\n",
       "      <td>cobra</td>\n",
       "      <td>1</td>\n",
       "      <td>2</td>\n",
       "      <td>cobra</td>\n",
       "    </tr>\n",
       "    <tr>\n",
       "      <th>1</th>\n",
       "      <td>1</td>\n",
       "      <td>viper</td>\n",
       "      <td>4</td>\n",
       "      <td>5</td>\n",
       "      <td>viper</td>\n",
       "    </tr>\n",
       "    <tr>\n",
       "      <th>2</th>\n",
       "      <td>2</td>\n",
       "      <td>sidewinder</td>\n",
       "      <td>7</td>\n",
       "      <td>8</td>\n",
       "      <td>sidewinder</td>\n",
       "    </tr>\n",
       "  </tbody>\n",
       "</table>\n",
       "</div>"
      ],
      "text/plain": [
       "   level_0       index  max_speed  shield      index1\n",
       "0        0       cobra          1       2       cobra\n",
       "1        1       viper          4       5       viper\n",
       "2        2  sidewinder          7       8  sidewinder"
      ]
     },
     "execution_count": 64,
     "metadata": {},
     "output_type": "execute_result"
    }
   ],
   "source": [
    "#add some existing index as colums \n",
    "df1 = df\n",
    "df1.reset_index(level=0, inplace=True) # better results.\n",
    "\n",
    "df1"
   ]
  },
  {
   "cell_type": "code",
   "execution_count": 67,
   "metadata": {},
   "outputs": [
    {
     "data": {
      "text/html": [
       "<div>\n",
       "<style scoped>\n",
       "    .dataframe tbody tr th:only-of-type {\n",
       "        vertical-align: middle;\n",
       "    }\n",
       "\n",
       "    .dataframe tbody tr th {\n",
       "        vertical-align: top;\n",
       "    }\n",
       "\n",
       "    .dataframe thead th {\n",
       "        text-align: right;\n",
       "    }\n",
       "</style>\n",
       "<table border=\"1\" class=\"dataframe\">\n",
       "  <thead>\n",
       "    <tr style=\"text-align: right;\">\n",
       "      <th></th>\n",
       "      <th>Henry1</th>\n",
       "      <th>James1</th>\n",
       "    </tr>\n",
       "  </thead>\n",
       "  <tbody>\n",
       "    <tr>\n",
       "      <th>Row name1</th>\n",
       "      <td>Very good.</td>\n",
       "      <td>Awesome.</td>\n",
       "    </tr>\n",
       "    <tr>\n",
       "      <th>Row name2</th>\n",
       "      <td>Not so good.</td>\n",
       "      <td>Boring.</td>\n",
       "    </tr>\n",
       "  </tbody>\n",
       "</table>\n",
       "</div>"
      ],
      "text/plain": [
       "                 Henry1    James1\n",
       "Row name1    Very good.  Awesome.\n",
       "Row name2  Not so good.   Boring."
      ]
     },
     "execution_count": 67,
     "metadata": {},
     "output_type": "execute_result"
    }
   ],
   "source": [
    "#change the  columns names, this is handy sometimes\n",
    "df2 = pd.DataFrame({'Rob': ['Very good.', 'Not so good.'], 'Rick': ['Awesome.', 'Boring.']}, index=['Row name1', 'Row name2'])\n",
    "\n",
    "df2.rename(columns={'Rob':'Henry1',\n",
    "                          'Rick':'James1'}, inplace=True)\n",
    "df2"
   ]
  },
  {
   "cell_type": "code",
   "execution_count": 66,
   "metadata": {},
   "outputs": [
    {
     "data": {
      "text/html": [
       "<div>\n",
       "<style scoped>\n",
       "    .dataframe tbody tr th:only-of-type {\n",
       "        vertical-align: middle;\n",
       "    }\n",
       "\n",
       "    .dataframe tbody tr th {\n",
       "        vertical-align: top;\n",
       "    }\n",
       "\n",
       "    .dataframe thead th {\n",
       "        text-align: right;\n",
       "    }\n",
       "</style>\n",
       "<table border=\"1\" class=\"dataframe\">\n",
       "  <thead>\n",
       "    <tr style=\"text-align: right;\">\n",
       "      <th></th>\n",
       "      <th>Country</th>\n",
       "      <th>Energy Supply</th>\n",
       "      <th>Energy Supply per Capita</th>\n",
       "      <th>% Renewable</th>\n",
       "      <th>some name</th>\n",
       "    </tr>\n",
       "  </thead>\n",
       "  <tbody>\n",
       "    <tr>\n",
       "      <th>0</th>\n",
       "      <td>0</td>\n",
       "      <td>cobra</td>\n",
       "      <td>1</td>\n",
       "      <td>2</td>\n",
       "      <td>cobra</td>\n",
       "    </tr>\n",
       "    <tr>\n",
       "      <th>1</th>\n",
       "      <td>1</td>\n",
       "      <td>viper</td>\n",
       "      <td>4</td>\n",
       "      <td>5</td>\n",
       "      <td>viper</td>\n",
       "    </tr>\n",
       "    <tr>\n",
       "      <th>2</th>\n",
       "      <td>2</td>\n",
       "      <td>sidewinder</td>\n",
       "      <td>7</td>\n",
       "      <td>8</td>\n",
       "      <td>sidewinder</td>\n",
       "    </tr>\n",
       "  </tbody>\n",
       "</table>\n",
       "</div>"
      ],
      "text/plain": [
       "   Country Energy Supply  Energy Supply per Capita  % Renewable   some name\n",
       "0        0         cobra                         1            2       cobra\n",
       "1        1         viper                         4            5       viper\n",
       "2        2    sidewinder                         7            8  sidewinder"
      ]
     },
     "execution_count": 66,
     "metadata": {},
     "output_type": "execute_result"
    }
   ],
   "source": [
    "#OTher ways to rename all columns\n",
    "df1.columns = ['Country', 'Energy Supply', 'Energy Supply per Capita', '% Renewable','some name']  # requires names for all cols\n",
    "df1"
   ]
  },
  {
   "cell_type": "markdown",
   "metadata": {},
   "source": [
    "### Get a summary and views\n",
    "**we use head(), tail(), describe() and variables like dtypes, index, columns, values.**\n",
    "\n",
    "\n"
   ]
  },
  {
   "cell_type": "code",
   "execution_count": 68,
   "metadata": {
    "scrolled": true
   },
   "outputs": [
    {
     "data": {
      "text/html": [
       "<div>\n",
       "<style scoped>\n",
       "    .dataframe tbody tr th:only-of-type {\n",
       "        vertical-align: middle;\n",
       "    }\n",
       "\n",
       "    .dataframe tbody tr th {\n",
       "        vertical-align: top;\n",
       "    }\n",
       "\n",
       "    .dataframe thead th {\n",
       "        text-align: right;\n",
       "    }\n",
       "</style>\n",
       "<table border=\"1\" class=\"dataframe\">\n",
       "  <thead>\n",
       "    <tr style=\"text-align: right;\">\n",
       "      <th></th>\n",
       "      <th>Country</th>\n",
       "      <th>Energy Supply per Capita</th>\n",
       "      <th>% Renewable</th>\n",
       "    </tr>\n",
       "  </thead>\n",
       "  <tbody>\n",
       "    <tr>\n",
       "      <th>count</th>\n",
       "      <td>3.0</td>\n",
       "      <td>3.0</td>\n",
       "      <td>3.0</td>\n",
       "    </tr>\n",
       "    <tr>\n",
       "      <th>mean</th>\n",
       "      <td>1.0</td>\n",
       "      <td>4.0</td>\n",
       "      <td>5.0</td>\n",
       "    </tr>\n",
       "    <tr>\n",
       "      <th>std</th>\n",
       "      <td>1.0</td>\n",
       "      <td>3.0</td>\n",
       "      <td>3.0</td>\n",
       "    </tr>\n",
       "    <tr>\n",
       "      <th>min</th>\n",
       "      <td>0.0</td>\n",
       "      <td>1.0</td>\n",
       "      <td>2.0</td>\n",
       "    </tr>\n",
       "    <tr>\n",
       "      <th>25%</th>\n",
       "      <td>0.5</td>\n",
       "      <td>2.5</td>\n",
       "      <td>3.5</td>\n",
       "    </tr>\n",
       "    <tr>\n",
       "      <th>50%</th>\n",
       "      <td>1.0</td>\n",
       "      <td>4.0</td>\n",
       "      <td>5.0</td>\n",
       "    </tr>\n",
       "    <tr>\n",
       "      <th>75%</th>\n",
       "      <td>1.5</td>\n",
       "      <td>5.5</td>\n",
       "      <td>6.5</td>\n",
       "    </tr>\n",
       "    <tr>\n",
       "      <th>max</th>\n",
       "      <td>2.0</td>\n",
       "      <td>7.0</td>\n",
       "      <td>8.0</td>\n",
       "    </tr>\n",
       "  </tbody>\n",
       "</table>\n",
       "</div>"
      ],
      "text/plain": [
       "       Country  Energy Supply per Capita  % Renewable\n",
       "count      3.0                       3.0          3.0\n",
       "mean       1.0                       4.0          5.0\n",
       "std        1.0                       3.0          3.0\n",
       "min        0.0                       1.0          2.0\n",
       "25%        0.5                       2.5          3.5\n",
       "50%        1.0                       4.0          5.0\n",
       "75%        1.5                       5.5          6.5\n",
       "max        2.0                       7.0          8.0"
      ]
     },
     "execution_count": 68,
     "metadata": {},
     "output_type": "execute_result"
    }
   ],
   "source": [
    "df1.describe() # gives a stat of the df1, very informative"
   ]
  },
  {
   "cell_type": "code",
   "execution_count": 69,
   "metadata": {},
   "outputs": [
    {
     "data": {
      "text/plain": [
       "Country                      int64\n",
       "Energy Supply               object\n",
       "Energy Supply per Capita     int64\n",
       "% Renewable                  int64\n",
       "some name                   object\n",
       "dtype: object"
      ]
     },
     "execution_count": 69,
     "metadata": {},
     "output_type": "execute_result"
    }
   ],
   "source": [
    "df1.dtypes # gives the types within the cols"
   ]
  },
  {
   "cell_type": "code",
   "execution_count": 70,
   "metadata": {},
   "outputs": [
    {
     "data": {
      "text/plain": [
       "array([[0, 'cobra', 1, 2, 'cobra'],\n",
       "       [1, 'viper', 4, 5, 'viper'],\n",
       "       [2, 'sidewinder', 7, 8, 'sidewinder']], dtype=object)"
      ]
     },
     "execution_count": 70,
     "metadata": {},
     "output_type": "execute_result"
    }
   ],
   "source": [
    "df1.values # gives the raw matrix"
   ]
  },
  {
   "cell_type": "code",
   "execution_count": 71,
   "metadata": {},
   "outputs": [
    {
     "data": {
      "text/plain": [
       "0"
      ]
     },
     "execution_count": 71,
     "metadata": {},
     "output_type": "execute_result"
    }
   ],
   "source": [
    "df1.index # gives the index\n",
    "df1.index[0] # gives the first index"
   ]
  },
  {
   "cell_type": "code",
   "execution_count": 72,
   "metadata": {},
   "outputs": [
    {
     "data": {
      "text/plain": [
       "Index(['Country', 'Energy Supply', 'Energy Supply per Capita', '% Renewable',\n",
       "       'some name'],\n",
       "      dtype='object')"
      ]
     },
     "execution_count": 72,
     "metadata": {},
     "output_type": "execute_result"
    }
   ],
   "source": [
    "df1.columns # gives the names of columns"
   ]
  },
  {
   "cell_type": "markdown",
   "metadata": {},
   "source": [
    "### Slicing and dicing, sorting"
   ]
  },
  {
   "cell_type": "code",
   "execution_count": null,
   "metadata": {},
   "outputs": [],
   "source": [
    "# Note some of slicing and dicing gets done on the original \n",
    "df1.Rob # Note here we use the col name as values. Rather than this method we shall use the [] method"
   ]
  },
  {
   "cell_type": "code",
   "execution_count": null,
   "metadata": {},
   "outputs": [],
   "source": [
    "df1['Rob'] # this is same as df1.Rob, however,in this syntax we can use \" \", it is wordy"
   ]
  },
  {
   "cell_type": "markdown",
   "metadata": {},
   "source": [
    "**iloc** and **loc**, these are two important operators, not methods. iloc is index location while loc is just location.  These are used to locate a particular item. \n",
    "Note: both loc and iloc are row-first, column-second and this is opposite of python.\n",
    "\n",
    "Arguments of iloc \n",
    "iloc arguments have parts each of which can be the following\n",
    "```\n",
    "a single item - 0\n",
    "a range 0:1\n",
    "a list [0, 1, 3]\n",
    "all the range :\n",
    "```\n",
    "thus all of these as are possible. \n",
    "\n",
    "`iloc[:, [0,1,2]]`\n",
    "\n",
    "`iloc[0, :]`\n",
    "\n",
    "\n",
    "**Arguments of loc**\n",
    "loc arguments expects similar arguments as iloc. \n",
    "example - \n",
    "`df = df1.loc[[0,1,10,100], ['country', 'province', 'region_1', 'region_2']]` # give rows 0, 1, 10, 100 and the cols as cited. \n",
    "\n",
    "**Conditiional arguments** \n",
    "`df1.loc[df1.Rob == 'Some value']`\n",
    "\n",
    "`df1.loc[(df1.Rob == 'Some value') & (df1.SomeOtherCol == 'Some other val')]`\n",
    "\n",
    "` conditional operators == != | & are supported.`\n",
    "**Note it is not &&**\n",
    "\n",
    "** isin operator\n",
    "df1.loc[df1.Rob.isin(['val1', 'val2'])]  # get me thos records from df1 whose Rob colums have either val1 or val2.\n",
    "\n",
    "\n",
    "\n",
    "\n"
   ]
  },
  {
   "cell_type": "code",
   "execution_count": null,
   "metadata": {},
   "outputs": [],
   "source": [
    "s = df1['Rob'].iloc[0]\n",
    "s\n"
   ]
  },
  {
   "cell_type": "code",
   "execution_count": null,
   "metadata": {},
   "outputs": [],
   "source": [
    "s = df1.Rob.iloc[0]\n",
    "s"
   ]
  },
  {
   "cell_type": "code",
   "execution_count": null,
   "metadata": {},
   "outputs": [],
   "source": [
    "s = df1['Rob'][0] # df1.Rob gives a colums and hence adding a [] gives a item. \n",
    "s"
   ]
  },
  {
   "cell_type": "code",
   "execution_count": null,
   "metadata": {},
   "outputs": [],
   "source": [
    "#**Row accessing** \n",
    "s = df1.iloc[0]\n",
    "s"
   ]
  },
  {
   "cell_type": "code",
   "execution_count": null,
   "metadata": {},
   "outputs": [],
   "source": [
    "s = df1.loc['Row name 1'] # gives an error, row names have to be exact.\n",
    "s"
   ]
  },
  {
   "cell_type": "code",
   "execution_count": null,
   "metadata": {},
   "outputs": [],
   "source": [
    "s = df1.loc['Row name1']\n",
    "s"
   ]
  },
  {
   "cell_type": "code",
   "execution_count": null,
   "metadata": {},
   "outputs": [],
   "source": [
    "s = df1.loc[:, ['Rob']]\n",
    "s"
   ]
  },
  {
   "cell_type": "code",
   "execution_count": null,
   "metadata": {},
   "outputs": [],
   "source": [
    "df1.loc[df1.Rob == 'Very good.'] # return the row where the col Rob equals those values.\n"
   ]
  },
  {
   "cell_type": "code",
   "execution_count": null,
   "metadata": {},
   "outputs": [],
   "source": [
    "df1[2:4] # this returns nothing as there is no data"
   ]
  },
  {
   "cell_type": "markdown",
   "metadata": {},
   "source": [
    "### Sorting and SQL styles\n",
    "`sort_values() to sort by column(s)`\n",
    "\n",
    "`sort_index() to sort by the index`"
   ]
  },
  {
   "cell_type": "code",
   "execution_count": null,
   "metadata": {},
   "outputs": [],
   "source": [
    "list_of_cols = ['Rob']\n",
    "df1.sort_values(list_of_cols, ascending=True) # Sorting based on columns"
   ]
  },
  {
   "cell_type": "code",
   "execution_count": null,
   "metadata": {},
   "outputs": [],
   "source": [
    "#Sorting based on index\n",
    "df1.sort_index(ascending = False)"
   ]
  },
  {
   "cell_type": "code",
   "execution_count": null,
   "metadata": {},
   "outputs": [],
   "source": [
    "#Where clause \n",
    "df.where(df['SUMLEV']==50)\n",
    "    .dropna()\n",
    "    .set_index(['STNAME','CTYNAME'])\n",
    "    .rename(columns={'ESTIMATESBASE2010': 'Estimates Base 2010'}))\n",
    "    \n",
    "#Note - dropna() it drops any rows where there is a NA, with args it can work on specific cols.\n",
    "    \n",
    "df = df[df['SUMLEV']==50]  # filter based on SUMLEV col keep only rows where it is 50\n",
    "\n",
    "#group by clause\n",
    "df.groupby('A').sum()\n",
    "\n",
    "#interesting application of groupby clause\n",
    "df = df.set_index('STNAME')\n",
    "\n",
    "def fun(item):\n",
    "    if item[0]<'M':\n",
    "        return 0\n",
    "    if item[0]<'Q':\n",
    "        return 1\n",
    "    return 2\n",
    "\n",
    "for group, frame in df.groupby(fun):\n",
    "    print('There are ' + str(len(frame)) + ' records in group ' + str(group) + ' for processing.')"
   ]
  },
  {
   "cell_type": "markdown",
   "metadata": {},
   "source": [
    "We see that there are no data, so how do we add some data to existing stuff. \n",
    "### Adding values to dataframes \n",
    "Way 1 - use the array notation df['Col'] = 'val' # sets all the values to val\n",
    "Way 2 - populate with a range of values df.Col = range(0, len(df), 1)\n"
   ]
  },
  {
   "cell_type": "code",
   "execution_count": null,
   "metadata": {},
   "outputs": [],
   "source": [
    "df1[\"New col\"] ={\"new value1\", \"new value 2\"} # adds a new col\n",
    "df1"
   ]
  },
  {
   "cell_type": "code",
   "execution_count": null,
   "metadata": {},
   "outputs": [],
   "source": [
    "#Adding a new row\n",
    "#df1.append()"
   ]
  },
  {
   "cell_type": "markdown",
   "metadata": {},
   "source": [
    "Now that we have more values, we look at the conditional operators\n",
    "\n",
    "### Conditional operators"
   ]
  },
  {
   "cell_type": "code",
   "execution_count": null,
   "metadata": {},
   "outputs": [],
   "source": [
    "`df1.loc[df1.Rob == 'Some value']`\n",
    "'reviews.loc[reviews.price.notnull()]"
   ]
  },
  {
   "cell_type": "markdown",
   "metadata": {},
   "source": [
    "### Accessing  the values from a df\n"
   ]
  },
  {
   "cell_type": "code",
   "execution_count": null,
   "metadata": {},
   "outputs": [],
   "source": [
    "#Get the column\n",
    "s = df1['Rob']\n",
    "s\n",
    "\n",
    "#Get the first item from the first col\n",
    "s = df1['Rob'][0]\n",
    "s\n"
   ]
  },
  {
   "cell_type": "code",
   "execution_count": 5,
   "metadata": {},
   "outputs": [
    {
     "ename": "NameError",
     "evalue": "name 'df' is not defined",
     "output_type": "error",
     "traceback": [
      "\u001b[1;31m---------------------------------------------------------------------------\u001b[0m",
      "\u001b[1;31mNameError\u001b[0m                                 Traceback (most recent call last)",
      "\u001b[1;32m<ipython-input-5-eb4574a3ad3b>\u001b[0m in \u001b[0;36m<module>\u001b[1;34m\u001b[0m\n\u001b[0;32m      3\u001b[0m     \u001b[0ms\u001b[0m \u001b[1;33m=\u001b[0m \u001b[0mdf\u001b[0m\u001b[1;33m.\u001b[0m\u001b[0mloc\u001b[0m\u001b[1;33m[\u001b[0m\u001b[0mdf\u001b[0m\u001b[1;33m.\u001b[0m\u001b[0mGold\u001b[0m \u001b[1;33m==\u001b[0m \u001b[0mdf\u001b[0m\u001b[1;33m[\u001b[0m\u001b[1;34m'Gold'\u001b[0m\u001b[1;33m]\u001b[0m\u001b[1;33m.\u001b[0m\u001b[0mmax\u001b[0m\u001b[1;33m(\u001b[0m\u001b[1;33m)\u001b[0m\u001b[1;33m]\u001b[0m \u001b[1;31m# gets the row having the max\u001b[0m\u001b[1;33m\u001b[0m\u001b[1;33m\u001b[0m\u001b[0m\n\u001b[0;32m      4\u001b[0m     \u001b[1;32mreturn\u001b[0m \u001b[0ms\u001b[0m\u001b[1;33m\u001b[0m\u001b[1;33m\u001b[0m\u001b[0m\n\u001b[1;32m----> 5\u001b[1;33m \u001b[0manswer_one\u001b[0m\u001b[1;33m(\u001b[0m\u001b[1;33m)\u001b[0m\u001b[1;33m\u001b[0m\u001b[1;33m\u001b[0m\u001b[0m\n\u001b[0m\u001b[0;32m      6\u001b[0m \u001b[1;33m\u001b[0m\u001b[0m\n\u001b[0;32m      7\u001b[0m \u001b[1;31m#Another function argmax gives us the index\u001b[0m\u001b[1;33m\u001b[0m\u001b[1;33m\u001b[0m\u001b[1;33m\u001b[0m\u001b[0m\n",
      "\u001b[1;32m<ipython-input-5-eb4574a3ad3b>\u001b[0m in \u001b[0;36manswer_one\u001b[1;34m()\u001b[0m\n\u001b[0;32m      1\u001b[0m \u001b[1;31m#Max min operations\u001b[0m\u001b[1;33m\u001b[0m\u001b[1;33m\u001b[0m\u001b[1;33m\u001b[0m\u001b[0m\n\u001b[0;32m      2\u001b[0m \u001b[1;32mdef\u001b[0m \u001b[0manswer_one\u001b[0m\u001b[1;33m(\u001b[0m\u001b[1;33m)\u001b[0m\u001b[1;33m:\u001b[0m\u001b[1;33m\u001b[0m\u001b[1;33m\u001b[0m\u001b[0m\n\u001b[1;32m----> 3\u001b[1;33m     \u001b[0ms\u001b[0m \u001b[1;33m=\u001b[0m \u001b[0mdf\u001b[0m\u001b[1;33m.\u001b[0m\u001b[0mloc\u001b[0m\u001b[1;33m[\u001b[0m\u001b[0mdf\u001b[0m\u001b[1;33m.\u001b[0m\u001b[0mGold\u001b[0m \u001b[1;33m==\u001b[0m \u001b[0mdf\u001b[0m\u001b[1;33m[\u001b[0m\u001b[1;34m'Gold'\u001b[0m\u001b[1;33m]\u001b[0m\u001b[1;33m.\u001b[0m\u001b[0mmax\u001b[0m\u001b[1;33m(\u001b[0m\u001b[1;33m)\u001b[0m\u001b[1;33m]\u001b[0m \u001b[1;31m# gets the row having the max\u001b[0m\u001b[1;33m\u001b[0m\u001b[1;33m\u001b[0m\u001b[0m\n\u001b[0m\u001b[0;32m      4\u001b[0m     \u001b[1;32mreturn\u001b[0m \u001b[0ms\u001b[0m\u001b[1;33m\u001b[0m\u001b[1;33m\u001b[0m\u001b[0m\n\u001b[0;32m      5\u001b[0m \u001b[0manswer_one\u001b[0m\u001b[1;33m(\u001b[0m\u001b[1;33m)\u001b[0m\u001b[1;33m\u001b[0m\u001b[1;33m\u001b[0m\u001b[0m\n",
      "\u001b[1;31mNameError\u001b[0m: name 'df' is not defined"
     ]
    }
   ],
   "source": [
    "#Max min operations \n",
    "def answer_one():\n",
    "    s = df.loc[df.Gold == df['Gold'].max()] # gets the row having the max\n",
    "    return s\n",
    "answer_one()\n",
    "\n",
    "#Another function argmax gives us the index \n",
    "result = Top15['% Renewable'].argmax()   #gives the row which is the max()\n",
    "\n",
    "\n"
   ]
  },
  {
   "cell_type": "markdown",
   "metadata": {},
   "source": [
    "### Assigning values \n",
    "this is selection of the cells and transformation and application fo the values. \n",
    "`e['Energy Supply'].replace(['...'], [np.NaN], inplace=True)` # find the values ... and replace by NaN\n",
    "\n",
    "`w.female.replace(['male', 'female'], [1, 0], inplace=True)` # do the replace for multiple data with new data\n",
    "\n",
    "`e['Energy Supply'] = 1000000*e['Energy Supply']` # multiple a whole column\n",
    "\n",
    "`e['Country'] = e['Country'].str.replace(r\" \\(.*\\)\",\"\")` find patterna nd replace\n",
    "\n",
    "``` Replace using a dic\n",
    "\n",
    "    new_name={\"Republic of Korea\": \"South Korea\",\n",
    "                  \"United States of America\": \"United States\",\n",
    "                  \"United Kingdom of Great Britain and Northern Ireland\": \"United Kingdom\",\n",
    "                  \"China, Hong Kong Special Administrative Region\": \"Hong Kong\"}\n",
    "    e['Country'].replace(to_replace=new_name, inplace=True)\n",
    "```\n",
    "\n",
    "### Drop rows and colums\n",
    "`df.drop(['B', 'C'], axis=1)`  #droping by labels - axis = 0 means rows, 1 means cols\n",
    "\n",
    "`g = g.drop(g.columns[2:48], axis = 1)` # drop columns by index, drop the columns 2 to 48"
   ]
  },
  {
   "cell_type": "markdown",
   "metadata": {},
   "source": [
    "### Using maps, apply and lambdas\n",
    "use df.apply can be used.  [apply official](https://pandas.pydata.org/pandas-docs/stable/reference/api/pandas.DataFrame.apply.html?highlight=apply#pandas.DataFrame.apply)"
   ]
  },
  {
   "cell_type": "code",
   "execution_count": null,
   "metadata": {},
   "outputs": [],
   "source": [
    "df.apply(np.sqrt) # do a square root of all elements of all columns, axis = 0 by default\n",
    "\n",
    "df.apply(np.sum, axis=0) # as a reducing function \n",
    "\n",
    "#In this call we are change the 'PR' column itself. \n",
    "sample['PR'] = sample['PR'].apply(lambda x: np.nan if x < 90 else x) # note the receiving array need not be the same\n",
    "\n",
    "#create a new colm spliting the value of exiting col\n",
    "# could be applied to all sort of string operation or any operations\n",
    "dfmax['d'] = dfmax['Date'].apply(lambda x: (x[:4]))\n",
    "\n",
    "# Here is a one liner\n",
    "df['left'],df['right'] = zip(*df[0].apply(lambda x: x.split('|')))\n",
    "\n",
    "# Another example of the one line done in Ass 2 of Applied -- \n",
    "dfmin1['Year'], dfmin1['Month-date'] = zip(*dfmin['Date'].apply(lambda x: (x[:4], x[5:])))\n"
   ]
  },
  {
   "cell_type": "markdown",
   "metadata": {},
   "source": [
    "[Pandas string operations](https://pandas.pydata.org/pandas-docs/stable/user_guide/text.html)\n",
    "\n",
    "lstrip(), rstrip(), strip(), lower(), split(), rsplit(), replace"
   ]
  },
  {
   "cell_type": "code",
   "execution_count": null,
   "metadata": {},
   "outputs": [],
   "source": [
    "# Some string operations \n",
    "# find reg match and add the match as a column \n",
    "import re\n",
    "mylist = states['Flag']\n",
    "pattern = '|'.join(mylist)\n",
    "pattern\n",
    "\n",
    "def pattern_searcher(search_str:str, search_list:str):\n",
    "\n",
    "    search_obj = re.search(search_list, search_str)\n",
    "    if search_obj :\n",
    "        return_str = search_str[search_obj.start(): search_obj.end()]\n",
    "    else:\n",
    "        return_str = 'NA'\n",
    "    return return_str\n",
    "\n",
    "\n",
    "#data10 = pd.read_csv(\"2010-2020-wikipedia-data.csv\", encoding= 'unicode_escape')\n",
    "data10 = pd.read_excel('2010-2020-wikipedia-data.xlsx', skiprows=4 )\n",
    "\n",
    "# Data cleaning, the issue is that the region is sometimes a state and other times all the affected states or region. \n",
    "# We retain the first matching state as the representative state for the data row.\n",
    "\n",
    "#data10['RepresentativeState'] = \n",
    "data10['RepresentativeState'] = data10['Region'].apply(lambda x: pattern_searcher(search_str=x, search_list=pattern))\n",
    "data10"
   ]
  },
  {
   "cell_type": "code",
   "execution_count": null,
   "metadata": {},
   "outputs": [],
   "source": [
    "#Nan and null setting and comparisions \n",
    "#set stuffs to null \n",
    "np.NaN\n",
    "\n",
    "String null \n",
    "pd.isnull(data[\"Name\"])  # check Name col where string is null\n",
    "df.notnull() \n",
    "\n",
    "#Checking \n",
    "pd.isna(pd.NA) #true is if pd.NA\n",
    "pd.isna(np.nan)\n",
    "\n",
    "# fill nulls in a dataset\n",
    "df.fillna(\"some value\")   or df.fillna(0)\n",
    "df.fillna(method ='bfill') # back fill\n",
    "df.fillna(method ='pad') # pad fill\n",
    "data.replace(to_replace = np.nan, value = -99)  \n"
   ]
  },
  {
   "cell_type": "code",
   "execution_count": 1,
   "metadata": {},
   "outputs": [
    {
     "ename": "SyntaxError",
     "evalue": "invalid syntax (<ipython-input-1-b1b66ea5aaef>, line 3)",
     "output_type": "error",
     "traceback": [
      "\u001b[1;36m  File \u001b[1;32m\"<ipython-input-1-b1b66ea5aaef>\"\u001b[1;36m, line \u001b[1;32m3\u001b[0m\n\u001b[1;33m    [good article](https://honingds.com/blog/pandas-read_csv/#parsedates)\u001b[0m\n\u001b[1;37m          ^\u001b[0m\n\u001b[1;31mSyntaxError\u001b[0m\u001b[1;31m:\u001b[0m invalid syntax\n"
     ]
    }
   ],
   "source": [
    "#Date time funcitons\n",
    "#reading date direclty time from file \n",
    "#https://honingds.com/blog/pandas-read_csv/#parsedates)\n",
    "df = pd.read_csv(\"f500_new.csv\" , encoding = \"iso-8859-1\", parse_dates = ['date_col'] , \n",
    "date_parser = mydateparser)\n",
    "#other arguments\n",
    "keep_date_col=true # keeps the exisitng col as well\n",
    "infer_datetime_format=true #pandas tries to figure the format.\n",
    "#example\n",
    "data00 = pd.read_excel('2000-2010-wikipedia-data.csv', skiprows=3, parse_dates = ['Dates'], keep_date_col=True, infer_datetime_format=True)\n",
    "\n",
    "\n",
    "#Some parsing \n",
    "dfmin1['Year'], dfmin1['Month-date'] = zip(*dfmin['Date'].apply(lambda x: (x[:4], x[5:])))\n",
    "dfmax['d'] = dfmax['Date'].apply(lambda x: (x[:4]))\n",
    "\n",
    "#using strptime, regex for date time\n",
    "dt_object1 = datetime.strptime(dt_string, \"%d/%m/%Y %H:%M:%S\")\n",
    "\n",
    "#formatting dates from February 14-21, 2000 to Februar 14, 2000\n",
    "data00 = data00.replace(to_replace='–[0-9][0-9]', value='', regex=True)\n"
   ]
  },
  {
   "cell_type": "markdown",
   "metadata": {},
   "source": [
    "### Advanced stat functions "
   ]
  },
  {
   "cell_type": "code",
   "execution_count": 6,
   "metadata": {
    "collapsed": true
   },
   "outputs": [
    {
     "ename": "NameError",
     "evalue": "name 'Top15' is not defined",
     "output_type": "error",
     "traceback": [
      "\u001b[1;31m---------------------------------------------------------------------------\u001b[0m",
      "\u001b[1;31mNameError\u001b[0m                                 Traceback (most recent call last)",
      "\u001b[1;32m<ipython-input-6-1d77acb37703>\u001b[0m in \u001b[0;36m<module>\u001b[1;34m\u001b[0m\n\u001b[0;32m      1\u001b[0m \u001b[1;31m# correlation - dataframe.corr() givs pairwise correlation of columns - example\u001b[0m\u001b[1;33m\u001b[0m\u001b[1;33m\u001b[0m\u001b[1;33m\u001b[0m\u001b[0m\n\u001b[1;32m----> 2\u001b[1;33m \u001b[0mdata\u001b[0m \u001b[1;33m=\u001b[0m \u001b[0mTop15\u001b[0m\u001b[1;33m[\u001b[0m\u001b[1;33m[\u001b[0m\u001b[1;34m'cdpp'\u001b[0m\u001b[1;33m,\u001b[0m\u001b[1;34m'Energy Supply per Capita'\u001b[0m\u001b[1;33m]\u001b[0m\u001b[1;33m]\u001b[0m \u001b[1;31m# example two row df containing data\u001b[0m\u001b[1;33m\u001b[0m\u001b[1;33m\u001b[0m\u001b[0m\n\u001b[0m\u001b[0;32m      3\u001b[0m \u001b[0mcorr\u001b[0m \u001b[1;33m=\u001b[0m \u001b[0mdata\u001b[0m\u001b[1;33m.\u001b[0m\u001b[0mcorr\u001b[0m\u001b[1;33m(\u001b[0m\u001b[0mmethod\u001b[0m\u001b[1;33m=\u001b[0m\u001b[1;34m'pearson'\u001b[0m\u001b[1;33m)\u001b[0m\u001b[1;33m.\u001b[0m\u001b[0miloc\u001b[0m\u001b[1;33m[\u001b[0m\u001b[1;36m0\u001b[0m\u001b[1;33m,\u001b[0m\u001b[1;36m1\u001b[0m\u001b[1;33m]\u001b[0m \u001b[1;31m# computes the correlation by pearson method\u001b[0m\u001b[1;33m\u001b[0m\u001b[1;33m\u001b[0m\u001b[0m\n",
      "\u001b[1;31mNameError\u001b[0m: name 'Top15' is not defined"
     ]
    }
   ],
   "source": [
    "# correlation - dataframe.corr() givs pairwise correlation of columns - example \n",
    "data = Top15[['cdpp','Energy Supply per Capita']] # example two row df containing data\n",
    "corr = data.corr(method='pearson').iloc[0,1] # computes the correlation by pearson method\n"
   ]
  },
  {
   "cell_type": "markdown",
   "metadata": {},
   "source": []
  },
  {
   "cell_type": "markdown",
   "metadata": {},
   "source": [
    "### the iloc and loc gotcha \n",
    "#df = reviews[['country', 'variety']].iloc[0:100] \n",
    "#df = reviews.loc[0:99, ['country', 'variety']]\n",
    "are the same however, one uses 0:99 and other uses 0:100 why "
   ]
  },
  {
   "cell_type": "markdown",
   "metadata": {},
   "source": [
    "### Data type conversion\n",
    "How to get the data types and convert from one another"
   ]
  },
  {
   "cell_type": "code",
   "execution_count": null,
   "metadata": {},
   "outputs": [],
   "source": [
    "df1.dtypes # get the types"
   ]
  },
  {
   "cell_type": "code",
   "execution_count": null,
   "metadata": {},
   "outputs": [],
   "source": [
    "df1 = df1.astype(\"string\") # converts to object\n",
    "\n",
    "str(df1)  # prints a string of all the stuff \n",
    "\n",
    "k = str(df1.iloc[0, 0])\n",
    "\n",
    "type(k)"
   ]
  },
  {
   "cell_type": "code",
   "execution_count": null,
   "metadata": {},
   "outputs": [],
   "source": [
    "# Convert Series to list\n",
    "\n",
    "df1"
   ]
  },
  {
   "cell_type": "code",
   "execution_count": null,
   "metadata": {},
   "outputs": [],
   "source": [
    "# Convert a string in int\n",
    "df['DataFrame Column'] = df['DataFrame Column'].astype(int)"
   ]
  },
  {
   "cell_type": "markdown",
   "metadata": {},
   "source": [
    "### Merging data frames \n",
    "pd.merge(staff_df, student_df, how='outer', left_index=True, right_index=True)  #outer join \n",
    "\n",
    "how can be `outer` `inner`, `left`, `right` \n",
    "\n",
    "exisiting index of the df can be used - left_index and right_index equals tells that use the indexes of the df. A beeter way is to use left_on and right_on which requires the column names. This explicity tells the developer the join axis, hence better in that way. "
   ]
  },
  {
   "cell_type": "code",
   "execution_count": null,
   "metadata": {},
   "outputs": [],
   "source": [
    "pd.merge(staff_df, student_df, how='outer', left_index=True, right_index=True)"
   ]
  },
  {
   "cell_type": "markdown",
   "metadata": {},
   "source": [
    "### Check the execution times\n",
    "%%timeit -n 10"
   ]
  },
  {
   "cell_type": "markdown",
   "metadata": {},
   "source": [
    "## Input and Output\n",
    "With Pandas it is possible to read from multiple sources, for example, CSV, HTML, JSON. \n",
    "\n",
    "[Official guide](https://pandas.pydata.org/pandas-docs/stable/user_guide/io.html)"
   ]
  },
  {
   "cell_type": "code",
   "execution_count": null,
   "metadata": {},
   "outputs": [],
   "source": [
    "#Reading from csv file\n",
    "reviews = pd.read_csv(\"../input/wine-reviews/winemag-data_first150k.csv\")\n",
    "## the file would have to be present in the directory. \n",
    "## The method is quite versatile and here are few important aspects\n",
    "# index_col=0 - set this if the file already has an index column.\n",
    "\n",
    "#Unicode error - this can happen if there are non uni chars\n",
    "data = pd.read_csv(filename, encoding= 'unicode_escape')\n"
   ]
  },
  {
   "cell_type": "code",
   "execution_count": null,
   "metadata": {},
   "outputs": [],
   "source": [
    "#Saving the df to a file\n",
    "df.to_csv('foo.csv')"
   ]
  },
  {
   "cell_type": "code",
   "execution_count": 3,
   "metadata": {
    "collapsed": true
   },
   "outputs": [
    {
     "ename": "NameError",
     "evalue": "name 'pd' is not defined",
     "output_type": "error",
     "traceback": [
      "\u001b[1;31m---------------------------------------------------------------------------\u001b[0m",
      "\u001b[1;31mNameError\u001b[0m                                 Traceback (most recent call last)",
      "\u001b[1;32m<ipython-input-3-bb8301764d0a>\u001b[0m in \u001b[0;36m<module>\u001b[1;34m\u001b[0m\n\u001b[0;32m      1\u001b[0m \u001b[1;31m# reading from Excel file.\u001b[0m\u001b[1;33m\u001b[0m\u001b[1;33m\u001b[0m\u001b[1;33m\u001b[0m\u001b[0m\n\u001b[0;32m      2\u001b[0m \u001b[1;31m# skip rows = header rows to skip. footer = footer rows to skip. use_cols = cols to take\u001b[0m\u001b[1;33m\u001b[0m\u001b[1;33m\u001b[0m\u001b[1;33m\u001b[0m\u001b[0m\n\u001b[1;32m----> 3\u001b[1;33m \u001b[0menergy\u001b[0m \u001b[1;33m=\u001b[0m \u001b[0mpd\u001b[0m\u001b[1;33m.\u001b[0m\u001b[0mread_excel\u001b[0m\u001b[1;33m(\u001b[0m\u001b[1;34m'Energy Indicators.xls'\u001b[0m\u001b[1;33m,\u001b[0m \u001b[0msheet_name\u001b[0m\u001b[1;33m=\u001b[0m\u001b[1;34m'Energy'\u001b[0m\u001b[1;33m,\u001b[0m \u001b[0mskiprows\u001b[0m \u001b[1;33m=\u001b[0m\u001b[1;36m16\u001b[0m\u001b[1;33m,\u001b[0m \u001b[0mskipfooter\u001b[0m\u001b[1;33m=\u001b[0m\u001b[1;36m38\u001b[0m\u001b[1;33m,\u001b[0m \u001b[0muse_cols\u001b[0m\u001b[1;33m=\u001b[0m\u001b[1;34m\"C:F\"\u001b[0m\u001b[1;33m)\u001b[0m\u001b[1;33m\u001b[0m\u001b[1;33m\u001b[0m\u001b[0m\n\u001b[0m",
      "\u001b[1;31mNameError\u001b[0m: name 'pd' is not defined"
     ]
    }
   ],
   "source": [
    "# reading from Excel file. \n",
    "# skip rows = header rows to skip. footer = footer rows to skip. use_cols = cols to take\n",
    "energy = pd.read_excel('Energy Indicators.xls', sheet_name='Energy', skiprows =16, skipfooter=38, use_cols=\"C:F\")\n"
   ]
  },
  {
   "cell_type": "markdown",
   "metadata": {},
   "source": [
    "### Begining a project\n",
    "Here are few heuristics that saves lot of time\n",
    "\n",
    "1. Begin by taking in data being read from data file. \n",
    "2. Create a data frame\n",
    "1. Check the object type of the data, \n",
    "    1. df.dtypes # check the data type and the cols, as saves a call to df.columns\n",
    "    1. df.shape  # size of matrix\n",
    "    1. df.head() # actual data\n",
    "    1. df.describe() # if it has numeric values and we are directly going to use stats\n",
    "1. \n"
   ]
  },
  {
   "cell_type": "markdown",
   "metadata": {},
   "source": [
    "# Pandas Visualization"
   ]
  },
  {
   "cell_type": "code",
   "execution_count": null,
   "metadata": {},
   "outputs": [],
   "source": [
    "import pandas as pd\n",
    "import numpy as np\n",
    "import matplotlib.pyplot as plt\n",
    "\n",
    "%matplotlib notebook"
   ]
  },
  {
   "cell_type": "code",
   "execution_count": null,
   "metadata": {},
   "outputs": [],
   "source": [
    "# see the pre-defined styles provided.\n",
    "plt.style.available"
   ]
  },
  {
   "cell_type": "code",
   "execution_count": null,
   "metadata": {
    "collapsed": true
   },
   "outputs": [],
   "source": [
    "# use the 'seaborn-colorblind' style\n",
    "plt.style.use('seaborn-colorblind')"
   ]
  },
  {
   "cell_type": "markdown",
   "metadata": {},
   "source": [
    "### DataFrame.plot"
   ]
  },
  {
   "cell_type": "code",
   "execution_count": null,
   "metadata": {
    "scrolled": false
   },
   "outputs": [],
   "source": [
    "np.random.seed(123)\n",
    "\n",
    "df = pd.DataFrame({'A': np.random.randn(365).cumsum(0), \n",
    "                   'B': np.random.randn(365).cumsum(0) + 20,\n",
    "                   'C': np.random.randn(365).cumsum(0) - 20}, \n",
    "                  index=pd.date_range('1/1/2017', periods=365))\n",
    "df.head()"
   ]
  },
  {
   "cell_type": "code",
   "execution_count": null,
   "metadata": {
    "scrolled": false
   },
   "outputs": [],
   "source": [
    "df.plot(); # add a semi-colon to the end of the plotting call to suppress unwanted output"
   ]
  },
  {
   "cell_type": "markdown",
   "metadata": {},
   "source": [
    "We can select which plot we want to use by passing it into the 'kind' parameter."
   ]
  },
  {
   "cell_type": "code",
   "execution_count": null,
   "metadata": {},
   "outputs": [],
   "source": [
    "df.plot('A','B', kind = 'scatter');"
   ]
  },
  {
   "cell_type": "markdown",
   "metadata": {},
   "source": [
    "You can also choose the plot kind by using the `DataFrame.plot.kind` methods instead of providing the `kind` keyword argument.\n",
    "\n",
    "`kind` :\n",
    "- `'line'` : line plot (default)\n",
    "- `'bar'` : vertical bar plot\n",
    "- `'barh'` : horizontal bar plot\n",
    "- `'hist'` : histogram\n",
    "- `'box'` : boxplot\n",
    "- `'kde'` : Kernel Density Estimation plot\n",
    "- `'density'` : same as 'kde'\n",
    "- `'area'` : area plot\n",
    "- `'pie'` : pie plot\n",
    "- `'scatter'` : scatter plot\n",
    "- `'hexbin'` : hexbin plot"
   ]
  },
  {
   "cell_type": "code",
   "execution_count": null,
   "metadata": {
    "scrolled": false
   },
   "outputs": [],
   "source": [
    "# create a scatter plot of columns 'A' and 'C', with changing color (c) and size (s) based on column 'B'\n",
    "df.plot.scatter('A', 'C', c='B', s=df['B'], colormap='viridis')"
   ]
  },
  {
   "cell_type": "code",
   "execution_count": null,
   "metadata": {},
   "outputs": [],
   "source": [
    "ax = df.plot.scatter('A', 'C', c='B', s=df['B'], colormap='viridis')\n",
    "ax.set_aspect('equal')"
   ]
  },
  {
   "cell_type": "code",
   "execution_count": null,
   "metadata": {
    "scrolled": false
   },
   "outputs": [],
   "source": [
    "df.plot.box();"
   ]
  },
  {
   "cell_type": "code",
   "execution_count": null,
   "metadata": {},
   "outputs": [],
   "source": [
    "df.plot.hist(alpha=0.7);"
   ]
  },
  {
   "cell_type": "markdown",
   "metadata": {},
   "source": [
    "[Kernel density estimation plots](https://en.wikipedia.org/wiki/Kernel_density_estimation) are useful for deriving a smooth continuous function from a given sample."
   ]
  },
  {
   "cell_type": "code",
   "execution_count": null,
   "metadata": {},
   "outputs": [],
   "source": [
    "df.plot.kde();"
   ]
  },
  {
   "cell_type": "markdown",
   "metadata": {},
   "source": [
    "### pandas.tools.plotting"
   ]
  },
  {
   "cell_type": "markdown",
   "metadata": {},
   "source": [
    "[Iris flower data set](https://en.wikipedia.org/wiki/Iris_flower_data_set)"
   ]
  },
  {
   "cell_type": "code",
   "execution_count": null,
   "metadata": {},
   "outputs": [],
   "source": [
    "iris = pd.read_csv('iris.csv')\n",
    "iris.head()"
   ]
  },
  {
   "cell_type": "code",
   "execution_count": null,
   "metadata": {
    "scrolled": false
   },
   "outputs": [],
   "source": [
    "pd.tools.plotting.scatter_matrix(iris);"
   ]
  },
  {
   "cell_type": "code",
   "execution_count": null,
   "metadata": {},
   "outputs": [],
   "source": [
    "plt.figure()\n",
    "pd.tools.plotting.parallel_coordinates(iris, 'Name');"
   ]
  },
  {
   "cell_type": "markdown",
   "metadata": {},
   "source": [
    "# Seaborn"
   ]
  },
  {
   "cell_type": "code",
   "execution_count": null,
   "metadata": {},
   "outputs": [],
   "source": [
    "import numpy as np\n",
    "import pandas as pd\n",
    "import matplotlib.pyplot as plt\n",
    "import seaborn as sns\n",
    "\n",
    "%matplotlib notebook"
   ]
  },
  {
   "cell_type": "code",
   "execution_count": null,
   "metadata": {
    "collapsed": true
   },
   "outputs": [],
   "source": [
    "np.random.seed(1234)\n",
    "\n",
    "v1 = pd.Series(np.random.normal(0,10,1000), name='v1')\n",
    "v2 = pd.Series(2*v1 + np.random.normal(60,15,1000), name='v2')"
   ]
  },
  {
   "cell_type": "code",
   "execution_count": null,
   "metadata": {},
   "outputs": [],
   "source": [
    "plt.figure()\n",
    "plt.hist(v1, alpha=0.7, bins=np.arange(-50,150,5), label='v1');\n",
    "plt.hist(v2, alpha=0.7, bins=np.arange(-50,150,5), label='v2');\n",
    "plt.legend();"
   ]
  },
  {
   "cell_type": "code",
   "execution_count": null,
   "metadata": {},
   "outputs": [],
   "source": [
    "# plot a kernel density estimation over a stacked barchart\n",
    "plt.figure()\n",
    "plt.hist([v1, v2], histtype='barstacked', normed=True);\n",
    "v3 = np.concatenate((v1,v2))\n",
    "sns.kdeplot(v3);"
   ]
  },
  {
   "cell_type": "code",
   "execution_count": null,
   "metadata": {},
   "outputs": [],
   "source": [
    "plt.figure()\n",
    "# we can pass keyword arguments for each individual component of the plot\n",
    "sns.distplot(v3, hist_kws={'color': 'Teal'}, kde_kws={'color': 'Navy'});"
   ]
  },
  {
   "cell_type": "code",
   "execution_count": null,
   "metadata": {},
   "outputs": [],
   "source": [
    "sns.jointplot(v1, v2, alpha=0.4);"
   ]
  },
  {
   "cell_type": "code",
   "execution_count": null,
   "metadata": {},
   "outputs": [],
   "source": [
    "grid = sns.jointplot(v1, v2, alpha=0.4);\n",
    "grid.ax_joint.set_aspect('equal')"
   ]
  },
  {
   "cell_type": "code",
   "execution_count": null,
   "metadata": {},
   "outputs": [],
   "source": [
    "sns.jointplot(v1, v2, kind='hex');"
   ]
  },
  {
   "cell_type": "code",
   "execution_count": null,
   "metadata": {},
   "outputs": [],
   "source": [
    "# set the seaborn style for all the following plots\n",
    "sns.set_style('white')\n",
    "\n",
    "sns.jointplot(v1, v2, kind='kde', space=0);"
   ]
  },
  {
   "cell_type": "code",
   "execution_count": null,
   "metadata": {},
   "outputs": [],
   "source": [
    "iris = pd.read_csv('iris.csv')\n",
    "iris.head()"
   ]
  },
  {
   "cell_type": "code",
   "execution_count": null,
   "metadata": {},
   "outputs": [],
   "source": [
    "sns.pairplot(iris, hue='Name', diag_kind='kde', size=2);"
   ]
  },
  {
   "cell_type": "code",
   "execution_count": null,
   "metadata": {
    "scrolled": true
   },
   "outputs": [],
   "source": [
    "plt.figure(figsize=(8,6))\n",
    "plt.subplot(121)\n",
    "sns.swarmplot('Name', 'PetalLength', data=iris);\n",
    "plt.subplot(122)\n",
    "sns.violinplot('Name', 'PetalLength', data=iris);"
   ]
  },
  {
   "cell_type": "markdown",
   "metadata": {},
   "source": []
  }
 ],
 "metadata": {
  "kernelspec": {
   "display_name": "Python 3",
   "language": "python",
   "name": "python3"
  },
  "language_info": {
   "codemirror_mode": {
    "name": "ipython",
    "version": 3
   },
   "file_extension": ".py",
   "mimetype": "text/x-python",
   "name": "python",
   "nbconvert_exporter": "python",
   "pygments_lexer": "ipython3",
   "version": "3.8.2"
  }
 },
 "nbformat": 4,
 "nbformat_minor": 4
}
